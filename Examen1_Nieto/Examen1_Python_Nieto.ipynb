{
 "cells": [
  {
   "cell_type": "code",
   "execution_count": null,
   "metadata": {},
   "outputs": [],
   "source": [
    "import numpy as np\n",
    "import cv2\n",
    "from scipy import misc\n",
    "\n",
    "##2\n",
    "arreglo_ceros = np.zeros(10)\n",
    "print(arreglo_ceros)\n",
    "\n",
    "##3\n",
    "a = np.zeros(5)\n",
    "b = np.ones(5)\n",
    "arreglo_ceros_unos = np.concatenate((a,b),axis=0)\n",
    "print(arreglo_ceros_unos)\n",
    "\n",
    "##4\n",
    "c = np.arange(1,51)\n",
    "arreglo_50 = c[::-1]\n",
    "print(arreglo_50)\n",
    "\n",
    "##5\n",
    "matriz1 = np.arange(9).reshape(3,3)\n",
    "print(matriz1)\n",
    "\n",
    "##6\n",
    "arreglo = [1,2,0,0,4,0]\n",
    "res = []\n",
    "for index,i in enumerate(arreglo):\n",
    "    if i == 0:\n",
    "        res.append(index)\n",
    "print(res)\n",
    "\n",
    "##7\n",
    "matriz_identidad = np.eye((3))\n",
    "print(matriz_identidad)\n",
    "\n",
    "##8\n",
    "random = np.random.rand(3,3,3)*10\n",
    "print(random)\n",
    "\n",
    "##9\n",
    "matriz_buscar = np.random.rand(10,10)*10\n",
    "print(matriz_buscar)\n",
    "print('minimo valor: ')\n",
    "print(matriz_buscar.min())\n",
    "print('mayor valor: ')\n",
    "print( matriz_buscar.max())\n",
    "\n",
    "##10\n",
    "import matplotlib.pyplot as plt\n",
    "dir_path= 'C:/Users/Danilo/Documents/python/img.jpg'\n",
    "img = cv2.imread(dir_path)\n",
    "type(img)\n",
    "lista_colores = list(set(img))\n",
    "##print(lista_colores)\n",
    "\n"
   ]
  },
  {
   "cell_type": "code",
   "execution_count": null,
   "metadata": {},
   "outputs": [],
   "source": []
  }
 ],
 "metadata": {
  "kernelspec": {
   "display_name": "Python 3",
   "language": "python",
   "name": "python3"
  },
  "language_info": {
   "codemirror_mode": {
    "name": "ipython",
    "version": 3
   },
   "file_extension": ".py",
   "mimetype": "text/x-python",
   "name": "python",
   "nbconvert_exporter": "python",
   "pygments_lexer": "ipython3",
   "version": "3.7.0"
  }
 },
 "nbformat": 4,
 "nbformat_minor": 2
}
